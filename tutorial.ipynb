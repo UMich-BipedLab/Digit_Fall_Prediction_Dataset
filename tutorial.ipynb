{
 "cells": [
  {
   "cell_type": "markdown",
   "metadata": {},
   "source": [
    "#### Digit Fall Prediction Dataset Tutorial"
   ]
  },
  {
   "cell_type": "markdown",
   "metadata": {},
   "source": [
    "This is an tutorial of using the Digit Fall Prediction Dataset. Ensure that the installation step is completed and the data is downloaded. Refere to README.md for instructions."
   ]
  },
  {
   "cell_type": "markdown",
   "metadata": {},
   "source": [
    "##### Loading Dataset"
   ]
  },
  {
   "cell_type": "code",
   "execution_count": null,
   "metadata": {},
   "outputs": [],
   "source": [
    "# import necessary libraries\n",
    "import numpy as np\n",
    "from utils import dataset\n",
    "from utils import DynamicsCalculator as dc\n",
    "from utils import vizualize_digit as viz"
   ]
  },
  {
   "cell_type": "markdown",
   "metadata": {},
   "source": [
    "The Digit Fall Prediction Dataset is encapsulated in a class. Here is how to load the Dataset."
   ]
  },
  {
   "cell_type": "code",
   "execution_count": null,
   "metadata": {},
   "outputs": [],
   "source": [
    "# create DatasetLoader instance\n",
    "dl = dataset.DatasetLoader()\n",
    "# load dataset\n",
    "dl.load_dataset(transform_real_trajectories=True,\n",
    "                remove_hardware_data_after_killed=True,\n",
    "                subtract_initial_value=False)"
   ]
  },
  {
   "cell_type": "markdown",
   "metadata": {},
   "source": [
    "Arguments of ```load_dataset``` function\n",
    "- ```tranform_real_trajectories```: Transform the data collected with reference to Digit's starting pose as shown in Figure 3 of README.md instead of the world frame\n",
    "- ```remove_hardware_data_after_killed```: To ensure that the robot does not get damaged by falling on the ground, its motors are \"killed\" as it is falling. Set this value to True to discard the data after the motors are killed.\n",
    "- ```subtract_initial_value```: Set this value to True to subtract the initial value of the data with all the data values at all timesteps.\n"
   ]
  },
  {
   "cell_type": "markdown",
   "metadata": {},
   "source": [
    "##### Visualize Trajectories "
   ]
  },
  {
   "cell_type": "markdown",
   "metadata": {},
   "source": [
    "It is often useful to have a visualization of the data that we are working with. We have provided an animation to visualize the Digit robot's trajectory."
   ]
  },
  {
   "cell_type": "code",
   "execution_count": null,
   "metadata": {},
   "outputs": [],
   "source": [
    "# List all the trajectories in the dataset\n",
    "print(dl.trajectories)"
   ]
  },
  {
   "cell_type": "code",
   "execution_count": null,
   "metadata": {},
   "outputs": [],
   "source": [
    "# extract the joint angles data\n",
    "q_data = dl.q_data\n",
    "\n",
    "# select a trajectory to visualize\n",
    "trajectory_name = \"sim_fd_1.0_f_40.088151587814565_ft_9.199487738996039_pertb_137.6519929672542.bag\"\n",
    "\n",
    "# Visualize the trajectory\n",
    "viz.vizualize_digit3D(q_all=q_data[trajectory_name])"
   ]
  },
  {
   "cell_type": "markdown",
   "metadata": {},
   "source": [
    "##### Kinematics Calculations of trajectory data"
   ]
  },
  {
   "cell_type": "code",
   "execution_count": null,
   "metadata": {},
   "outputs": [],
   "source": [
    "# calculate angular momentum\n",
    "ang_mom = dc.get_angular_momentum(q=np.zeros(30), dq=np.zeros(30), custom_point_pos=[1,2, 3], custom_point_vel=[3, 4, 56])"
   ]
  }
 ],
 "metadata": {
  "language_info": {
   "name": "python"
  }
 },
 "nbformat": 4,
 "nbformat_minor": 2
}
